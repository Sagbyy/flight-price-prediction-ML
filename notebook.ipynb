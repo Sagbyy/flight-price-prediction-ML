{
 "cells": [
  {
   "cell_type": "markdown",
   "metadata": {
    "vscode": {
     "languageId": "plaintext"
    }
   },
   "source": [
    "# Flight Price Prediction\n",
    "\n",
    "This is project is about predicting the price of a flight based on the features of the flight. We are going to use a dataset from `/data` and train a model to predict the price of a flight."
   ]
  },
  {
   "cell_type": "markdown",
   "metadata": {},
   "source": [
    "## 1. Load and explore the dataset"
   ]
  },
  {
   "cell_type": "code",
   "execution_count": 19,
   "metadata": {},
   "outputs": [
    {
     "name": "stdout",
     "output_type": "stream",
     "text": [
      "L'ensemble des données contient 10683 lignes et 14 colonnes\n",
      "Les 5 premières lignes du dataset sont : \n",
      "       Airline    Source Destination  Total_Stops  Price  Date  Month  Year  \\\n",
      "0       IndiGo  Banglore   New Delhi            0   3897    24      3  2019   \n",
      "1    Air India   Kolkata    Banglore            2   7662     1      5  2019   \n",
      "2  Jet Airways     Delhi      Cochin            2  13882     9      6  2019   \n",
      "3       IndiGo   Kolkata    Banglore            1   6218    12      5  2019   \n",
      "4       IndiGo  Banglore   New Delhi            1  13302     1      3  2019   \n",
      "\n",
      "   Dep_hours  Dep_min  Arrival_hours  Arrival_min  Duration_hours  \\\n",
      "0         22       20              1           10               2   \n",
      "1          5       50             13           15               7   \n",
      "2          9       25              4           25              19   \n",
      "3         18        5             23           30               5   \n",
      "4         16       50             21           35               4   \n",
      "\n",
      "   Duration_min  \n",
      "0            50  \n",
      "1            25  \n",
      "2             0  \n",
      "3            25  \n",
      "4            45  \n",
      "Les 5 dernières lignes du dataset sont : \n",
      "           Airline    Source Destination  Total_Stops  Price  Date  Month  \\\n",
      "10678     Air Asia   Kolkata    Banglore            0   4107     9      4   \n",
      "10679    Air India   Kolkata    Banglore            0   4145    27      4   \n",
      "10680  Jet Airways  Banglore       Delhi            0   7229    27      4   \n",
      "10681      Vistara  Banglore   New Delhi            0  12648     1      3   \n",
      "10682    Air India     Delhi      Cochin            2  11753     9      5   \n",
      "\n",
      "       Year  Dep_hours  Dep_min  Arrival_hours  Arrival_min  Duration_hours  \\\n",
      "10678  2019         19       55             22           25               2   \n",
      "10679  2019         20       45             23           20               2   \n",
      "10680  2019          8       20             11           20               3   \n",
      "10681  2019         11       30             14           10               2   \n",
      "10682  2019         10       55             19           15               8   \n",
      "\n",
      "       Duration_min  \n",
      "10678            30  \n",
      "10679            35  \n",
      "10680             0  \n",
      "10681            40  \n",
      "10682            20  \n",
      "Les colonnes du dataset sont : \n",
      "Index(['Airline', 'Source', 'Destination', 'Total_Stops', 'Price', 'Date',\n",
      "       'Month', 'Year', 'Dep_hours', 'Dep_min', 'Arrival_hours', 'Arrival_min',\n",
      "       'Duration_hours', 'Duration_min'],\n",
      "      dtype='object')\n"
     ]
    }
   ],
   "source": [
    "import pandas as pd\n",
    "\n",
    "df = pd.read_csv('data/flight_dataset.csv')\n",
    "\n",
    "print(f\"L'ensemble des données contient {df.shape[0]} lignes et {df.shape[1]} colonnes\")\n",
    "\n",
    "print(f\"Les 5 premières lignes du dataset sont : \\n{df.head()}\")\n",
    "\n",
    "print(f\"Les 5 dernières lignes du dataset sont : \\n{df.tail()}\")\n",
    "\n",
    "print(f\"Les colonnes du dataset sont : \\n{df.columns}\")"
   ]
  },
  {
   "cell_type": "markdown",
   "metadata": {},
   "source": [
    "We can see here that the format of the date is separated by columns with the number of the day, month and year."
   ]
  },
  {
   "cell_type": "code",
   "execution_count": 20,
   "metadata": {},
   "outputs": [
    {
     "name": "stdout",
     "output_type": "stream",
     "text": [
      "The unique values of the column 'Airline' are : ['IndiGo' 'Air India' 'Jet Airways' 'SpiceJet' 'Multiple carriers' 'GoAir'\n",
      " 'Vistara' 'Air Asia' 'Vistara Premium economy' 'Jet Airways Business'\n",
      " 'Multiple carriers Premium economy' 'Trujet']\n",
      "The unique values of the column 'Source' are : ['Banglore' 'Kolkata' 'Delhi' 'Chennai' 'Mumbai']\n",
      "The unique values of the column 'Destination' are : ['New Delhi' 'Banglore' 'Cochin' 'Kolkata' 'Delhi' 'Hyderabad']\n"
     ]
    }
   ],
   "source": [
    "print(f\"The unique values of the column 'Airline' are : {df['Airline'].unique()}\")\n",
    "\n",
    "print(f\"The unique values of the column 'Source' are : {df['Source'].unique()}\")\n",
    "\n",
    "print(f\"The unique values of the column 'Destination' are : {df['Destination'].unique()}\")"
   ]
  },
  {
   "cell_type": "markdown",
   "metadata": {},
   "source": [
    "## 2. Preprocessing"
   ]
  },
  {
   "cell_type": "code",
   "execution_count": 21,
   "metadata": {},
   "outputs": [
    {
     "name": "stdout",
     "output_type": "stream",
     "text": [
      "The number of lines with null values is 0\n",
      "   Total_Stops  Price  Date  Month  Year  Dep_hours  Dep_min  Arrival_hours  \\\n",
      "0            0   3897    24      3  2019         22       20              1   \n",
      "1            2   7662     1      5  2019          5       50             13   \n",
      "2            2  13882     9      6  2019          9       25              4   \n",
      "3            1   6218    12      5  2019         18        5             23   \n",
      "4            1  13302     1      3  2019         16       50             21   \n",
      "\n",
      "   Arrival_min  Duration_hours  ...  Airline_Vistara Premium economy  \\\n",
      "0           10               2  ...                            False   \n",
      "1           15               7  ...                            False   \n",
      "2           25              19  ...                            False   \n",
      "3           30               5  ...                            False   \n",
      "4           35               4  ...                            False   \n",
      "\n",
      "   Source_Chennai  Source_Delhi  Source_Kolkata  Source_Mumbai  \\\n",
      "0           False         False           False          False   \n",
      "1           False         False            True          False   \n",
      "2           False          True           False          False   \n",
      "3           False         False            True          False   \n",
      "4           False         False           False          False   \n",
      "\n",
      "   Destination_Cochin  Destination_Delhi  Destination_Hyderabad  \\\n",
      "0               False              False                  False   \n",
      "1               False              False                  False   \n",
      "2                True              False                  False   \n",
      "3               False              False                  False   \n",
      "4               False              False                  False   \n",
      "\n",
      "   Destination_Kolkata  Destination_New Delhi  \n",
      "0                False                   True  \n",
      "1                False                  False  \n",
      "2                False                  False  \n",
      "3                False                  False  \n",
      "4                False                   True  \n",
      "\n",
      "[5 rows x 32 columns]\n"
     ]
    }
   ],
   "source": [
    "nb_null_values_line = df.isnull().any(axis=1).sum()\n",
    "print(f\"The number of lines with null values is {nb_null_values_line}\")\n",
    "\n",
    "if nb_null_values_line > 0:\n",
    "    df = df.dropna()\n",
    "    print(f\"Deleting the lines with null values\")\n",
    "    \n",
    "\n",
    "df[\"Duration_total_min\"] = df[\"Duration_hours\"] * 60 + df[\"Duration_min\"]\n",
    "\n",
    "df = pd.get_dummies(df, columns=[\"Airline\", \"Source\", \"Destination\"], drop_first=True)\n",
    "\n",
    "print(df.head())"
   ]
  },
  {
   "cell_type": "markdown",
   "metadata": {},
   "source": [
    "We converted the duration in minutes and we created a new column with the total duration in minutes. All categorical variables are converted into dummy variables with the One Hot Encoding."
   ]
  },
  {
   "cell_type": "markdown",
   "metadata": {},
   "source": [
    "## 3. Exploratory Data Analysis (EDA)"
   ]
  },
  {
   "cell_type": "markdown",
   "metadata": {},
   "source": []
  },
  {
   "cell_type": "markdown",
   "metadata": {},
   "source": [
    "## 4. Chose and train several models"
   ]
  },
  {
   "cell_type": "markdown",
   "metadata": {},
   "source": [
    "## 5. Evaluation of performance"
   ]
  },
  {
   "cell_type": "markdown",
   "metadata": {},
   "source": [
    "## 6. Compare and select the best model"
   ]
  }
 ],
 "metadata": {
  "kernelspec": {
   "display_name": "flight-price-prediction-ML",
   "language": "python",
   "name": "python3"
  },
  "language_info": {
   "codemirror_mode": {
    "name": "ipython",
    "version": 3
   },
   "file_extension": ".py",
   "mimetype": "text/x-python",
   "name": "python",
   "nbconvert_exporter": "python",
   "pygments_lexer": "ipython3",
   "version": "3.12.11"
  }
 },
 "nbformat": 4,
 "nbformat_minor": 2
}
